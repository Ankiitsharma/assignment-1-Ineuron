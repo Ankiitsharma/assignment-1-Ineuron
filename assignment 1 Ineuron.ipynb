{
 "cells": [
  {
   "cell_type": "code",
   "execution_count": 6,
   "id": "f81599e0",
   "metadata": {},
   "outputs": [
    {
     "name": "stdout",
     "output_type": "stream",
     "text": [
      "-1\n"
     ]
    }
   ],
   "source": [
    "1. In the below elements which of them are values or an expression? eg:- values can be\n",
    "integer or string and expressions will be mathematical operators.\n",
    "*- expressions\n",
    "'hello'- value(string)\n",
    "-87.8 -value\n",
    "- - expressions\n",
    "/ - expressions\n",
    "+ - expressions\n",
    "6 - value\n",
    "\n",
    "\n",
    "2. What is the difference between string and variable?\n",
    "A string is a data type,  but is used to represent text rather than numbers. It is comprised of a set of characters that can also contain spaces and numbers.\n",
    "variable- variable is a name that is a reference or pointer to an object. Once an object is assigned to a variable, you can refer to the object by that name. But the data itself is still contained within the object.\n",
    "\n",
    "3. Describe three different data types.\n",
    "\n",
    "1. Integer - An integer is colloquially defined as a number that can be written without a fractional component. For example, 21, 4, 0\n",
    "2. Float-The float type in Python represents the floating point number. Float is used to represent real numbers and is written with a decimal point dividing the integer and fractional parts. For example, 97.98\n",
    "3. String- It is used to represent text rather than numbers. It is comprised of a set of characters that can also contain spaces and numbers.\n",
    "\n",
    "\n",
    "4. What is an expression made up of? What do all expressions do?\n",
    "\n",
    "An expression is a combination of operators and operands that is interpreted to produce some other value.\n",
    "\n",
    "\n",
    "5. This assignment statements, like spam = 10. What is the difference between an\n",
    "expression and a statement?\n",
    "\n",
    "spam=10 is a statement and = is expression and 10 is the value \n",
    "\n",
    "\n",
    "6. After running the following code, what does the variable bacon contain?\n",
    "bacon = 22\n",
    "bacon + 1\n",
    "\n",
    "output- 23\n",
    "\n",
    "7. What should the values of the following two terms be?\n",
    "'spam' +'spamspam'- it will concatenate 2 string\n",
    "spam*3 - we can not concatenate string with numbers\n",
    "\n",
    "8. Why is eggs a valid variable name while 100 is invalid?\n",
    " Because the variable name can not be a number\n",
    "\n",
    "\n",
    "9. What three functions can be used to get the integer, floating-point number, or string\n",
    "version of a value?\n",
    "\n",
    "Integer-int(), float- float(), string-str()\n",
    "\n",
    "10. Why does this expression cause an error? How can you fix it?\n",
    "'I have eaten'+ 99 +'burritos'\n",
    "\n",
    "The expression causes an error because 99 is an integer, and only strings can be concatenated to other strings with the + operator."
   ]
  },
  {
   "cell_type": "code",
   "execution_count": 7,
   "id": "fde6a69a",
   "metadata": {},
   "outputs": [
    {
     "data": {
      "text/plain": [
       "23"
      ]
     },
     "execution_count": 7,
     "metadata": {},
     "output_type": "execute_result"
    }
   ],
   "source": [
    "bacon = 22\n",
    "bacon + 1"
   ]
  },
  {
   "cell_type": "code",
   "execution_count": 9,
   "id": "7e9423f2",
   "metadata": {},
   "outputs": [
    {
     "data": {
      "text/plain": [
       "'spamspamspam'"
      ]
     },
     "execution_count": 9,
     "metadata": {},
     "output_type": "execute_result"
    }
   ],
   "source": [
    "'spam' +'spamspam'\n"
   ]
  },
  {
   "cell_type": "code",
   "execution_count": null,
   "id": "5a578f8e",
   "metadata": {},
   "outputs": [],
   "source": []
  }
 ],
 "metadata": {
  "kernelspec": {
   "display_name": "Python 3 (ipykernel)",
   "language": "python",
   "name": "python3"
  },
  "language_info": {
   "codemirror_mode": {
    "name": "ipython",
    "version": 3
   },
   "file_extension": ".py",
   "mimetype": "text/x-python",
   "name": "python",
   "nbconvert_exporter": "python",
   "pygments_lexer": "ipython3",
   "version": "3.10.0"
  }
 },
 "nbformat": 4,
 "nbformat_minor": 5
}
